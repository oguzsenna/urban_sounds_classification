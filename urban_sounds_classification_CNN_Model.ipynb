{
 "cells": [
  {
   "cell_type": "code",
   "execution_count": 11,
   "metadata": {},
   "outputs": [],
   "source": [
    "import numpy as np\n",
    "import matplotlib.pyplot as plt"
   ]
  },
  {
   "cell_type": "code",
   "execution_count": 5,
   "metadata": {},
   "outputs": [],
   "source": [
    "from numpy import genfromtxt\n",
    "X_train = genfromtxt('C:\\\\Users\\\\ogzsn\\\\OneDrive\\\\Masaüstü\\\\New folder\\\\X_train2D.csv', delimiter=',')\n",
    "y_train = genfromtxt('C:\\\\Users\\\\ogzsn\\\\OneDrive\\\\Masaüstü\\\\New folder\\\\y_train.csv', delimiter=',')\n",
    "X_test = genfromtxt('C:\\\\Users\\\\ogzsn\\\\OneDrive\\\\Masaüstü\\\\New folder\\\\X_test2D.csv', delimiter=',')\n",
    "y_test = genfromtxt('C:\\\\Users\\\\ogzsn\\\\OneDrive\\\\Masaüstü\\\\New folder\\\\y_test.csv', delimiter=',')\n",
    "X_val = genfromtxt('C:\\\\Users\\\\ogzsn\\\\OneDrive\\\\Masaüstü\\\\New folder\\\\X_val2D.csv', delimiter=',')\n",
    "y_val = genfromtxt('C:\\\\Users\\\\ogzsn\\\\OneDrive\\\\Masaüstü\\\\New folder\\\\y_val.csv', delimiter=',')"
   ]
  },
  {
   "cell_type": "code",
   "execution_count": 6,
   "metadata": {},
   "outputs": [
    {
     "data": {
      "text/plain": [
       "(6985, 1600)"
      ]
     },
     "execution_count": 6,
     "metadata": {},
     "output_type": "execute_result"
    }
   ],
   "source": [
    "X_train.shape"
   ]
  },
  {
   "cell_type": "code",
   "execution_count": 7,
   "metadata": {},
   "outputs": [],
   "source": [
    "import numpy as np\n",
    "\n",
    "X_train=np.reshape(X_train,(X_train.shape[0], 40,40))\n",
    "X_test=np.reshape(X_test,(X_test.shape[0], 40,40))\n",
    "X_val=np.reshape(X_val,(X_val.shape[0], 40,40))\n",
    "\n"
   ]
  },
  {
   "cell_type": "code",
   "execution_count": 8,
   "metadata": {},
   "outputs": [],
   "source": [
    "\n",
    "\n",
    "import tensorflow as tf\n",
    "\n",
    "# Create a model object\n",
    "model = tf.keras.Sequential()\n",
    "\n",
    "# Add a convolution and max pooling layer\n",
    "model.add(tf.keras.layers.Conv2D(64,\n",
    "                                 kernel_size = (3,3),\n",
    "                                 strides = (1,1),\n",
    "                                 padding = 'same',\n",
    "                                 activation = 'relu',\n",
    "                                 input_shape = (40,40,1)))\n",
    "                                  \n",
    "\n",
    "model.add(tf.keras.layers.MaxPool2D(2,2))\n",
    "\n",
    "# Add more convolution and max pooling layers\n",
    "model.add(tf.keras.layers.Conv2D(64,\n",
    "                                 kernel_size = (3,3),\n",
    "                                 strides = (1,1),\n",
    "                                 padding = 'same',\n",
    "                                 activation = 'relu',\n",
    "                                 ))\n",
    "model.add(tf.keras.layers.MaxPool2D(2,2))\n",
    "model.add(tf.keras.layers.Conv2D(64,\n",
    "                                 kernel_size = (3,3),\n",
    "                                 strides = (1,1),\n",
    "                                 padding = 'same',\n",
    "                                 activation = 'relu',\n",
    "                                 ))\n",
    "\n",
    "\n",
    "model.add(tf.keras.layers.Flatten())\n",
    "\n",
    "# Add the dense layer and dropout layer\n",
    "model.add(tf.keras.layers.Dense(64, activation= 'relu'))\n",
    "model.add(tf.keras.layers.Dropout(0.5))\n",
    "\n",
    "# Add the dense layer and dropout layer\n",
    "model.add(tf.keras.layers.Dense(64, activation= 'relu'))\n",
    "model.add(tf.keras.layers.Dropout(0.5))\n",
    "\n",
    "# Add the output layer\n",
    "model.add(tf.keras.layers.Dense(10,activation='softmax'))\n",
    "\n",
    "# Compile the model\n",
    "model.compile(optimizer='adam',\n",
    "              loss='sparse_categorical_crossentropy',\n",
    "              metrics=['accuracy']\n",
    "              )\n",
    "\n",
    "\n",
    "\n"
   ]
  },
  {
   "cell_type": "code",
   "execution_count": 14,
   "metadata": {},
   "outputs": [
    {
     "name": "stdout",
     "output_type": "stream",
     "text": [
      "Epoch 1/30\n",
      "55/55 [==============================] - 11s 196ms/step - loss: 1.7861 - accuracy: 0.3407 - val_loss: 1.3309 - val_accuracy: 0.5945\n",
      "Epoch 2/30\n",
      "55/55 [==============================] - 11s 194ms/step - loss: 1.5977 - accuracy: 0.4218 - val_loss: 1.1499 - val_accuracy: 0.6392\n",
      "Epoch 3/30\n",
      "55/55 [==============================] - 11s 194ms/step - loss: 1.4573 - accuracy: 0.4816 - val_loss: 1.0368 - val_accuracy: 0.6724\n",
      "Epoch 4/30\n",
      "55/55 [==============================] - 11s 195ms/step - loss: 1.3729 - accuracy: 0.5184 - val_loss: 0.9367 - val_accuracy: 0.6747\n",
      "Epoch 5/30\n",
      "55/55 [==============================] - 10s 189ms/step - loss: 1.2509 - accuracy: 0.5522 - val_loss: 0.8347 - val_accuracy: 0.7468\n",
      "Epoch 6/30\n",
      "55/55 [==============================] - 11s 194ms/step - loss: 1.1602 - accuracy: 0.5934 - val_loss: 0.7909 - val_accuracy: 0.7835\n",
      "Epoch 7/30\n",
      "55/55 [==============================] - 10s 188ms/step - loss: 1.0534 - accuracy: 0.6299 - val_loss: 0.7103 - val_accuracy: 0.8041\n",
      "Epoch 8/30\n",
      "55/55 [==============================] - 10s 187ms/step - loss: 1.0233 - accuracy: 0.6450 - val_loss: 0.7285 - val_accuracy: 0.7812\n",
      "Epoch 9/30\n",
      "55/55 [==============================] - 10s 187ms/step - loss: 0.9554 - accuracy: 0.6669 - val_loss: 0.6694 - val_accuracy: 0.7995\n",
      "Epoch 10/30\n",
      "55/55 [==============================] - 10s 189ms/step - loss: 0.9005 - accuracy: 0.6899 - val_loss: 0.5997 - val_accuracy: 0.8144\n",
      "Epoch 11/30\n",
      "55/55 [==============================] - 10s 188ms/step - loss: 0.8700 - accuracy: 0.7015 - val_loss: 0.5835 - val_accuracy: 0.8270\n",
      "Epoch 12/30\n",
      "55/55 [==============================] - 11s 199ms/step - loss: 0.8003 - accuracy: 0.7326 - val_loss: 0.5752 - val_accuracy: 0.8236\n",
      "Epoch 13/30\n",
      "55/55 [==============================] - 11s 194ms/step - loss: 0.7904 - accuracy: 0.7293 - val_loss: 0.5055 - val_accuracy: 0.8522\n",
      "Epoch 14/30\n",
      "55/55 [==============================] - 10s 191ms/step - loss: 0.7191 - accuracy: 0.7583 - val_loss: 0.5394 - val_accuracy: 0.8328\n",
      "Epoch 15/30\n",
      "55/55 [==============================] - 11s 191ms/step - loss: 0.6899 - accuracy: 0.7625 - val_loss: 0.4565 - val_accuracy: 0.8706\n",
      "Epoch 16/30\n",
      "55/55 [==============================] - 11s 193ms/step - loss: 0.6679 - accuracy: 0.7759 - val_loss: 0.4267 - val_accuracy: 0.8763\n",
      "Epoch 17/30\n",
      "55/55 [==============================] - 11s 192ms/step - loss: 0.6014 - accuracy: 0.7976 - val_loss: 0.4024 - val_accuracy: 0.8763\n",
      "Epoch 18/30\n",
      "55/55 [==============================] - 11s 193ms/step - loss: 0.5742 - accuracy: 0.8024 - val_loss: 0.4015 - val_accuracy: 0.8706\n",
      "Epoch 19/30\n",
      "55/55 [==============================] - 11s 193ms/step - loss: 0.5902 - accuracy: 0.8082 - val_loss: 0.4234 - val_accuracy: 0.8763\n",
      "Epoch 20/30\n",
      "55/55 [==============================] - 11s 195ms/step - loss: 0.5343 - accuracy: 0.8190 - val_loss: 0.3630 - val_accuracy: 0.8877\n",
      "Epoch 21/30\n",
      "55/55 [==============================] - 11s 195ms/step - loss: 0.5305 - accuracy: 0.8213 - val_loss: 0.3728 - val_accuracy: 0.8912\n",
      "Epoch 22/30\n",
      "55/55 [==============================] - 11s 202ms/step - loss: 0.4684 - accuracy: 0.8451 - val_loss: 0.3723 - val_accuracy: 0.8889\n",
      "Epoch 23/30\n",
      "55/55 [==============================] - 11s 208ms/step - loss: 0.4836 - accuracy: 0.8377 - val_loss: 0.3820 - val_accuracy: 0.8797\n",
      "Epoch 24/30\n",
      "55/55 [==============================] - 11s 203ms/step - loss: 0.4490 - accuracy: 0.8490 - val_loss: 0.3202 - val_accuracy: 0.9061\n",
      "Epoch 25/30\n",
      "55/55 [==============================] - 11s 197ms/step - loss: 0.4136 - accuracy: 0.8624 - val_loss: 0.3476 - val_accuracy: 0.8969\n",
      "Epoch 26/30\n",
      "55/55 [==============================] - 11s 195ms/step - loss: 0.4065 - accuracy: 0.8647 - val_loss: 0.3320 - val_accuracy: 0.9072\n",
      "Epoch 27/30\n",
      "55/55 [==============================] - 11s 197ms/step - loss: 0.3945 - accuracy: 0.8601 - val_loss: 0.3550 - val_accuracy: 0.8946\n",
      "Epoch 28/30\n",
      "55/55 [==============================] - 11s 195ms/step - loss: 0.3855 - accuracy: 0.8697 - val_loss: 0.3181 - val_accuracy: 0.9015\n",
      "Epoch 29/30\n",
      "55/55 [==============================] - 11s 195ms/step - loss: 0.3520 - accuracy: 0.8809 - val_loss: 0.3199 - val_accuracy: 0.9049\n",
      "Epoch 30/30\n",
      "55/55 [==============================] - 11s 197ms/step - loss: 0.3391 - accuracy: 0.8875 - val_loss: 0.3495 - val_accuracy: 0.8992\n"
     ]
    }
   ],
   "source": [
    "# Train the model for 30 epochs with batch size of 128\n",
    "results= model.fit(X_train, y_train,\n",
    "                   batch_size=128,\n",
    "                   epochs=30,\n",
    "                   validation_data= (X_val, y_val)\n",
    "                   )"
   ]
  },
  {
   "cell_type": "code",
   "execution_count": 15,
   "metadata": {},
   "outputs": [
    {
     "data": {
      "image/png": "[encoded data removed]",
      "text/plain": [
       "<Figure size 432x288 with 1 Axes>"
      ]
     },
     "metadata": {
      "needs_background": "light"
     },
     "output_type": "display_data"
    },
    {
     "data": {
      "image/png": "[encoded data removed]",
      "text/plain": [
       "<Figure size 432x288 with 1 Axes>"
      ]
     },
     "metadata": {
      "needs_background": "light"
     },
     "output_type": "display_data"
    }
   ],
   "source": [
    "plt.plot(results.history[\"loss\"], label = \"loss\")\n",
    "plt.plot(results.history[\"val_loss\"], label = \"val_loss\")\n",
    "plt.xlabel(\"Epoch\")\n",
    "plt.ylabel(\"Loss\")\n",
    "plt.grid()\n",
    "plt.legend()\n",
    "plt.show()\n",
    "\n",
    "plt.plot(results.history[\"accuracy\"], label = \"accuracy\")\n",
    "plt.plot(results.history[\"val_accuracy\"], label = \"val_accuracy\")\n",
    "plt.xlabel(\"Epoch\")\n",
    "plt.ylabel(\"Accuracy\")\n",
    "plt.grid()\n",
    "plt.legend()\n",
    "plt.show()\n",
    "\n",
    "\n",
    "\n"
   ]
  },
  {
   "cell_type": "code",
   "execution_count": 16,
   "metadata": {},
   "outputs": [
    {
     "name": "stdout",
     "output_type": "stream",
     "text": [
      "28/28 [==============================] - 0s 15ms/step - loss: 0.4561 - accuracy: 0.8810\n"
     ]
    },
    {
     "data": {
      "text/plain": [
       "[0.45609501004219055, 0.8810068368911743]"
      ]
     },
     "execution_count": 16,
     "metadata": {},
     "output_type": "execute_result"
    }
   ],
   "source": [
    "model.evaluate(X_test,y_test)"
   ]
  }
 ],
 "metadata": {
  "kernelspec": {
   "display_name": "Python 3.10.1 64-bit",
   "language": "python",
   "name": "python3"
  },
  "language_info": {
   "codemirror_mode": {
    "name": "ipython",
    "version": 3
   },
   "file_extension": ".py",
   "mimetype": "text/x-python",
   "name": "python",
   "nbconvert_exporter": "python",
   "pygments_lexer": "ipython3",
   "version": "3.10.1"
  },
  "orig_nbformat": 4,
  "vscode": {
   "interpreter": {
    "hash": "d98e133101808d3feccac79a7ba4ffbe87a9b639156bc8c38d01cd4dd4deb096"
   }
  }
 },
 "nbformat": 4,
 "nbformat_minor": 2
}
