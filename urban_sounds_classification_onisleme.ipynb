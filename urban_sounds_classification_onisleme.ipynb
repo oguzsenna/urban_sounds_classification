{
  "cells": [
    {
      "cell_type": "markdown",
      "metadata": {
        "id": "view-in-github",
        "colab_type": "text"
      },
      "source": [
        "<a href=\"https://colab.research.google.com/github/oguzsenna/urban_sounds_classification/blob/main/urban_sounds_classification_onisleme.ipynb\" target=\"_parent\"><img src=\"https://colab.research.google.com/assets/colab-badge.svg\" alt=\"Open In Colab\"/></a>"
      ]
    },
    {
      "cell_type": "markdown",
      "metadata": {
        "id": "xM5mbzWocybD"
      },
      "source": [
        "import data from github repo"
      ]
    },
    {
      "cell_type": "code",
      "source": [
        "import pandas as pd\n",
        "import librosa\n",
        "import librosa.display\n",
        "import numpy as np\n",
        "import tensorflow as tf\n",
        "import matplotlib.pyplot as plt\n",
        "import cv2 \n",
        "import glob\n",
        "from google.colab.patches import cv2_imshow\n",
        "from sklearn.model_selection import train_test_split\n",
        "import pickle\n",
        "from sklearn.metrics import confusion_matrix"
      ],
      "metadata": {
        "id": "vTqVKgzw7L9I"
      },
      "execution_count": null,
      "outputs": []
    },
    {
      "cell_type": "code",
      "execution_count": null,
      "metadata": {
        "colab": {
          "base_uri": "https://localhost:8080/",
          "height": 35
        },
        "id": "Si1D7RfCbodW",
        "outputId": "8da5e928-48cb-4144-88df-9930856c98c5"
      },
      "outputs": [
        {
          "output_type": "execute_result",
          "data": {
            "text/plain": [
              "'/content'"
            ],
            "application/vnd.google.colaboratory.intrinsic+json": {
              "type": "string"
            }
          },
          "metadata": {},
          "execution_count": 3
        }
      ],
      "source": [
        "pwd"
      ]
    },
    {
      "cell_type": "code",
      "execution_count": null,
      "metadata": {
        "colab": {
          "base_uri": "https://localhost:8080/"
        },
        "id": "wFHB81asdDBT",
        "outputId": "8d65cfbc-c153-43c2-83a3-aec4342ec19c"
      },
      "outputs": [
        {
          "output_type": "stream",
          "name": "stdout",
          "text": [
            "Cloning into 'repo'...\n",
            "remote: Enumerating objects: 8766, done.\u001b[K\n",
            "remote: Counting objects: 100% (21/21), done.\u001b[K\n",
            "remote: Compressing objects: 100% (15/15), done.\u001b[K\n",
            "remote: Total 8766 (delta 2), reused 7 (delta 0), pack-reused 8745\u001b[K\n",
            "Receiving objects: 100% (8766/8766), 350.94 MiB | 43.49 MiB/s, done.\n",
            "Resolving deltas: 100% (2/2), done.\n",
            "Checking out files: 100% (8735/8735), done.\n"
          ]
        }
      ],
      "source": [
        "! git clone https://github.com/Hijikata1835/repo/"
      ]
    },
    {
      "cell_type": "code",
      "execution_count": null,
      "metadata": {
        "colab": {
          "base_uri": "https://localhost:8080/"
        },
        "id": "jnEls3zmdLJz",
        "outputId": "15c0de84-e334-4714-b059-9dd8ffe1444b"
      },
      "outputs": [
        {
          "output_type": "stream",
          "name": "stdout",
          "text": [
            "/content/repo/spectrograms\n"
          ]
        }
      ],
      "source": [
        "cd repo/spectrograms"
      ]
    },
    {
      "cell_type": "code",
      "execution_count": null,
      "metadata": {
        "colab": {
          "base_uri": "https://localhost:8080/"
        },
        "id": "lhWSoFjXdFPR",
        "outputId": "46837a7c-02ab-4001-ee51-13073574f09d"
      },
      "outputs": [
        {
          "output_type": "stream",
          "name": "stdout",
          "text": [
            "\u001b[0m\u001b[01;34m0\u001b[0m/  \u001b[01;34m4\u001b[0m/  \u001b[01;34m8\u001b[0m/                       urban_sounds_classification.pdf  y_test.csv\n",
            "\u001b[01;34m1\u001b[0m/  \u001b[01;34m5\u001b[0m/  \u001b[01;34m9\u001b[0m/                       X_test2D.csv                     y_train.csv\n",
            "\u001b[01;34m2\u001b[0m/  \u001b[01;34m6\u001b[0m/  UrbanSound8K.csv         X_train2D.csv                    y_val.csv\n",
            "\u001b[01;34m3\u001b[0m/  \u001b[01;34m7\u001b[0m/  UrbanSound8K_README.txt  X_val2D.csv\n"
          ]
        }
      ],
      "source": [
        "ls"
      ]
    },
    {
      "cell_type": "code",
      "source": [
        "data = pd.read_csv('/content/repo/spectrograms/UrbanSound8K.csv')\n",
        "data.drop(columns = ['fsID','start', 'end','salience','fold'], inplace=True)\n",
        "data.head()\n",
        "data.info()"
      ],
      "metadata": {
        "colab": {
          "base_uri": "https://localhost:8080/"
        },
        "id": "wJyzNY4V59hI",
        "outputId": "09d4159c-cf17-400c-fbea-e37de5eb2e70"
      },
      "execution_count": null,
      "outputs": [
        {
          "output_type": "stream",
          "name": "stdout",
          "text": [
            "<class 'pandas.core.frame.DataFrame'>\n",
            "RangeIndex: 8732 entries, 0 to 8731\n",
            "Data columns (total 3 columns):\n",
            " #   Column           Non-Null Count  Dtype \n",
            "---  ------           --------------  ----- \n",
            " 0   slice_file_name  8732 non-null   object\n",
            " 1   classID          8732 non-null   int64 \n",
            " 2   class            8732 non-null   object\n",
            "dtypes: int64(1), object(2)\n",
            "memory usage: 204.8+ KB\n"
          ]
        }
      ]
    },
    {
      "cell_type": "code",
      "source": [
        "data.head()"
      ],
      "metadata": {
        "colab": {
          "base_uri": "https://localhost:8080/",
          "height": 206
        },
        "id": "N2HuAg9GP71M",
        "outputId": "d35bf888-821e-4dfe-802a-b4e17cbc75b0"
      },
      "execution_count": null,
      "outputs": [
        {
          "output_type": "execute_result",
          "data": {
            "text/plain": [
              "      slice_file_name  classID             class\n",
              "0    100032-3-0-0.wav        3          dog_bark\n",
              "1  100263-2-0-117.wav        2  children_playing\n",
              "2  100263-2-0-121.wav        2  children_playing\n",
              "3  100263-2-0-126.wav        2  children_playing\n",
              "4  100263-2-0-137.wav        2  children_playing"
            ],
            "text/html": [
              "\n",
              "  <div id=\"df-30fbe540-b277-4441-903a-f443e021e498\">\n",
              "    <div class=\"colab-df-container\">\n",
              "      <div>\n",
              "<style scoped>\n",
              "    .dataframe tbody tr th:only-of-type {\n",
              "        vertical-align: middle;\n",
              "    }\n",
              "\n",
              "    .dataframe tbody tr th {\n",
              "        vertical-align: top;\n",
              "    }\n",
              "\n",
              "    .dataframe thead th {\n",
              "        text-align: right;\n",
              "    }\n",
              "</style>\n",
              "<table border=\"1\" class=\"dataframe\">\n",
              "  <thead>\n",
              "    <tr style=\"text-align: right;\">\n",
              "      <th></th>\n",
              "      <th>slice_file_name</th>\n",
              "      <th>classID</th>\n",
              "      <th>class</th>\n",
              "    </tr>\n",
              "  </thead>\n",
              "  <tbody>\n",
              "    <tr>\n",
              "      <th>0</th>\n",
              "      <td>100032-3-0-0.wav</td>\n",
              "      <td>3</td>\n",
              "      <td>dog_bark</td>\n",
              "    </tr>\n",
              "    <tr>\n",
              "      <th>1</th>\n",
              "      <td>100263-2-0-117.wav</td>\n",
              "      <td>2</td>\n",
              "      <td>children_playing</td>\n",
              "    </tr>\n",
              "    <tr>\n",
              "      <th>2</th>\n",
              "      <td>100263-2-0-121.wav</td>\n",
              "      <td>2</td>\n",
              "      <td>children_playing</td>\n",
              "    </tr>\n",
              "    <tr>\n",
              "      <th>3</th>\n",
              "      <td>100263-2-0-126.wav</td>\n",
              "      <td>2</td>\n",
              "      <td>children_playing</td>\n",
              "    </tr>\n",
              "    <tr>\n",
              "      <th>4</th>\n",
              "      <td>100263-2-0-137.wav</td>\n",
              "      <td>2</td>\n",
              "      <td>children_playing</td>\n",
              "    </tr>\n",
              "  </tbody>\n",
              "</table>\n",
              "</div>\n",
              "      <button class=\"colab-df-convert\" onclick=\"convertToInteractive('df-30fbe540-b277-4441-903a-f443e021e498')\"\n",
              "              title=\"Convert this dataframe to an interactive table.\"\n",
              "              style=\"display:none;\">\n",
              "        \n",
              "  <svg xmlns=\"http://www.w3.org/2000/svg\" height=\"24px\"viewBox=\"0 0 24 24\"\n",
              "       width=\"24px\">\n",
              "    <path d=\"M0 0h24v24H0V0z\" fill=\"none\"/>\n",
              "    <path d=\"M18.56 5.44l.94 2.06.94-2.06 2.06-.94-2.06-.94-.94-2.06-.94 2.06-2.06.94zm-11 1L8.5 8.5l.94-2.06 2.06-.94-2.06-.94L8.5 2.5l-.94 2.06-2.06.94zm10 10l.94 2.06.94-2.06 2.06-.94-2.06-.94-.94-2.06-.94 2.06-2.06.94z\"/><path d=\"M17.41 7.96l-1.37-1.37c-.4-.4-.92-.59-1.43-.59-.52 0-1.04.2-1.43.59L10.3 9.45l-7.72 7.72c-.78.78-.78 2.05 0 2.83L4 21.41c.39.39.9.59 1.41.59.51 0 1.02-.2 1.41-.59l7.78-7.78 2.81-2.81c.8-.78.8-2.07 0-2.86zM5.41 20L4 18.59l7.72-7.72 1.47 1.35L5.41 20z\"/>\n",
              "  </svg>\n",
              "      </button>\n",
              "      \n",
              "  <style>\n",
              "    .colab-df-container {\n",
              "      display:flex;\n",
              "      flex-wrap:wrap;\n",
              "      gap: 12px;\n",
              "    }\n",
              "\n",
              "    .colab-df-convert {\n",
              "      background-color: #E8F0FE;\n",
              "      border: none;\n",
              "      border-radius: 50%;\n",
              "      cursor: pointer;\n",
              "      display: none;\n",
              "      fill: #1967D2;\n",
              "      height: 32px;\n",
              "      padding: 0 0 0 0;\n",
              "      width: 32px;\n",
              "    }\n",
              "\n",
              "    .colab-df-convert:hover {\n",
              "      background-color: #E2EBFA;\n",
              "      box-shadow: 0px 1px 2px rgba(60, 64, 67, 0.3), 0px 1px 3px 1px rgba(60, 64, 67, 0.15);\n",
              "      fill: #174EA6;\n",
              "    }\n",
              "\n",
              "    [theme=dark] .colab-df-convert {\n",
              "      background-color: #3B4455;\n",
              "      fill: #D2E3FC;\n",
              "    }\n",
              "\n",
              "    [theme=dark] .colab-df-convert:hover {\n",
              "      background-color: #434B5C;\n",
              "      box-shadow: 0px 1px 3px 1px rgba(0, 0, 0, 0.15);\n",
              "      filter: drop-shadow(0px 1px 2px rgba(0, 0, 0, 0.3));\n",
              "      fill: #FFFFFF;\n",
              "    }\n",
              "  </style>\n",
              "\n",
              "      <script>\n",
              "        const buttonEl =\n",
              "          document.querySelector('#df-30fbe540-b277-4441-903a-f443e021e498 button.colab-df-convert');\n",
              "        buttonEl.style.display =\n",
              "          google.colab.kernel.accessAllowed ? 'block' : 'none';\n",
              "\n",
              "        async function convertToInteractive(key) {\n",
              "          const element = document.querySelector('#df-30fbe540-b277-4441-903a-f443e021e498');\n",
              "          const dataTable =\n",
              "            await google.colab.kernel.invokeFunction('convertToInteractive',\n",
              "                                                     [key], {});\n",
              "          if (!dataTable) return;\n",
              "\n",
              "          const docLinkHtml = 'Like what you see? Visit the ' +\n",
              "            '<a target=\"_blank\" href=https://colab.research.google.com/notebooks/data_table.ipynb>data table notebook</a>'\n",
              "            + ' to learn more about interactive tables.';\n",
              "          element.innerHTML = '';\n",
              "          dataTable['output_type'] = 'display_data';\n",
              "          await google.colab.output.renderOutput(dataTable, element);\n",
              "          const docLink = document.createElement('div');\n",
              "          docLink.innerHTML = docLinkHtml;\n",
              "          element.appendChild(docLink);\n",
              "        }\n",
              "      </script>\n",
              "    </div>\n",
              "  </div>\n",
              "  "
            ]
          },
          "metadata": {},
          "execution_count": 7
        }
      ]
    },
    {
      "cell_type": "code",
      "source": [
        "print(data.classID.value_counts())"
      ],
      "metadata": {
        "id": "KT2QyoDS7B38",
        "colab": {
          "base_uri": "https://localhost:8080/"
        },
        "outputId": "108a94d3-dc05-486c-87bd-662e53f6d306"
      },
      "execution_count": null,
      "outputs": [
        {
          "output_type": "stream",
          "name": "stdout",
          "text": [
            "3    1000\n",
            "2    1000\n",
            "0    1000\n",
            "9    1000\n",
            "5    1000\n",
            "7    1000\n",
            "4    1000\n",
            "8     929\n",
            "1     429\n",
            "6     374\n",
            "Name: classID, dtype: int64\n"
          ]
        }
      ]
    },
    {
      "cell_type": "code",
      "source": [
        "# küçük bir veri görselleştirme \n",
        "import seaborn as sns\n",
        "classID_count = data[\"classID\"].value_counts().reset_index()\n",
        "\n",
        "sns.barplot(x=\"index\",\n",
        "            y=\"classID\",\n",
        "            data=classID_count)\n",
        "plt.show()"
      ],
      "metadata": {
        "colab": {
          "base_uri": "https://localhost:8080/",
          "height": 279
        },
        "id": "xOm9C2cZRSSa",
        "outputId": "85437995-f267-4cb2-fe1f-2a8acd70c04c"
      },
      "execution_count": null,
      "outputs": [
        {
          "output_type": "display_data",
          "data": {
            "text/plain": [
              "<Figure size 432x288 with 1 Axes>"
            ],
            "image/png": "[encoded data removed]"
          },
          "metadata": {
            "needs_background": "light"
          }
        }
      ]
    },
    {
      "cell_type": "code",
      "source": [
        "def one_function_to_rule_them_all(n): # fonksiyona directoryleri koyacagiz grayscale, resize,edip bize cikti verecek\n",
        "\n",
        "  #imageFile = cv2.imread(n)\n",
        "  gray = cv2.cvtColor(n, cv2.COLOR_BGR2GRAY) \n",
        "\n",
        "  #resizing \n",
        "  #scale_percent = 50 # percent of original size\n",
        "  #width = int(gray.shape[1] * scale_percent / 100)\n",
        "  #height = int(gray.shape[0] * scale_percent / 100)\n",
        "  dim = (40, 40)\n",
        "    \n",
        "  resized = cv2.resize(gray, dim, interpolation = cv2.INTER_AREA)\n",
        "  \n",
        "  return resized"
      ],
      "metadata": {
        "id": "6zRqgxsEerPF"
      },
      "execution_count": null,
      "outputs": []
    },
    {
      "cell_type": "code",
      "source": [
        "deneme = one_function_to_rule_them_all(cv2.imread('/content/repo/spectrograms/0/100852-0-0-0.png'))"
      ],
      "metadata": {
        "id": "BaCwkZ20k-_M"
      },
      "execution_count": null,
      "outputs": []
    },
    {
      "cell_type": "code",
      "source": [
        "plt.imshow(deneme)"
      ],
      "metadata": {
        "colab": {
          "base_uri": "https://localhost:8080/",
          "height": 284
        },
        "id": "Ykgn8tT8k-3B",
        "outputId": "d3b90242-805a-49b9-d7e2-ae4d727b4d5b"
      },
      "execution_count": null,
      "outputs": [
        {
          "output_type": "execute_result",
          "data": {
            "text/plain": [
              "<matplotlib.image.AxesImage at 0x7f919d1c9c10>"
            ]
          },
          "metadata": {},
          "execution_count": 8
        },
        {
          "output_type": "display_data",
          "data": {
            "text/plain": [
              "<Figure size 432x288 with 1 Axes>"
            ],
            "image/png": "[encoded data removed]"
          },
          "metadata": {
            "needs_background": "light"
          }
        }
      ]
    },
    {
      "cell_type": "code",
      "source": [
        "\n",
        "cv_img = []\n",
        "for i in range(10): \n",
        "  for img in glob.glob(\"/content/repo/spectrograms/\"+str(i)+\"/*.png\"):\n",
        "      n= cv2.imread(img)\n",
        "      m=one_function_to_rule_them_all(n)\n",
        "      m= m/255 #normalizing\n",
        "      cv_img.append([m,i])"
      ],
      "metadata": {
        "id": "dkm9LWyIED0n"
      },
      "execution_count": null,
      "outputs": []
    },
    {
      "cell_type": "code",
      "source": [
        "X = []\n",
        "y = []\n",
        "for image, category in cv_img:\n",
        "        X.append(image)\n",
        "        y.append(category)"
      ],
      "metadata": {
        "id": "tBggCO9oE229"
      },
      "execution_count": null,
      "outputs": []
    },
    {
      "cell_type": "code",
      "source": [
        "X_train, X_temporary, y_train, y_temporary = train_test_split(X,y,train_size=0.8)\n",
        "\n",
        "X_val,X_test, y_val, y_test = train_test_split(X_temporary, y_temporary, train_size=0.5)\n",
        "\n"
      ],
      "metadata": {
        "id": "42BQdKWz1Otv"
      },
      "execution_count": null,
      "outputs": []
    },
    {
      "cell_type": "code",
      "source": [
        "print(f'Length of the dataset: {len(X)}')\n",
        "print(f'Length of the training dataset:  {len(X_train)}')\n",
        "print(f'Length of the validation dataset: {len(X_val)}')\n",
        "print(f'Length of the test dataset: {len(X_test)}')\n"
      ],
      "metadata": {
        "colab": {
          "base_uri": "https://localhost:8080/"
        },
        "id": "YePatJ-v1Vil",
        "outputId": "8ff307a8-c90c-49f8-f38e-c9c6fed6c497"
      },
      "execution_count": null,
      "outputs": [
        {
          "output_type": "stream",
          "name": "stdout",
          "text": [
            "Length of the dataset: 8732\n",
            "Length of the training dataset:  6985\n",
            "Length of the validation dataset: 873\n",
            "Length of the test dataset: 874\n"
          ]
        }
      ]
    },
    {
      "cell_type": "code",
      "source": [
        "X_train = np.array(X_train)\n",
        "y_train = np.array(y_train)\n",
        "\n",
        "X_val = np.array(X_val)\n",
        "y_val = np.array(y_val)\n",
        "\n",
        "X_test = np.array(X_test)\n",
        "y_test = np.array(y_test)\n",
        "\n"
      ],
      "metadata": {
        "id": "4krDd3TefdMg"
      },
      "execution_count": null,
      "outputs": []
    },
    {
      "cell_type": "code",
      "source": [
        "print(X_train.shape)"
      ],
      "metadata": {
        "colab": {
          "base_uri": "https://localhost:8080/"
        },
        "id": "a_-GCvCHg4SX",
        "outputId": "a8d0a87f-9670-4776-8c60-79e3b9e35d58"
      },
      "execution_count": null,
      "outputs": [
        {
          "output_type": "stream",
          "name": "stdout",
          "text": [
            "(6985, 40, 40)\n"
          ]
        }
      ]
    },
    {
      "cell_type": "code",
      "source": [
        "print(f'Length of the dataset: {len(X)}')\n",
        "print(f'Length of the training dataset:  {len(X_train)}')\n",
        "print(f'Length of the validation dataset: {len(X_val)}')\n",
        "print(f'Length of the test dataset: {len(X_test)}')"
      ],
      "metadata": {
        "colab": {
          "base_uri": "https://localhost:8080/"
        },
        "id": "HCjjFC9DfdJ2",
        "outputId": "bde3fd2d-4a99-4067-f051-4119061d540c"
      },
      "execution_count": null,
      "outputs": [
        {
          "output_type": "stream",
          "name": "stdout",
          "text": [
            "Length of the dataset: 8732\n",
            "Length of the training dataset:  6985\n",
            "Length of the validation dataset: 873\n",
            "Length of the test dataset: 874\n"
          ]
        }
      ]
    },
    {
      "cell_type": "code",
      "source": [
        "#reshaping into 2d to save in csv format\n",
        "x_train_2d=np.reshape(X_train,(X_train.shape[0],X_train.shape[1]*X_train.shape[2]))\n",
        "x_test_2d=np.reshape(X_test,(X_test.shape[0],X_test.shape[1]*X_test.shape[2]))\n",
        "x_val_2d=np.reshape(X_val,(X_val.shape[0],X_val.shape[1]*X_val.shape[2]))"
      ],
      "metadata": {
        "id": "W1KNtBA_hu0Q"
      },
      "execution_count": null,
      "outputs": []
    },
    {
      "cell_type": "code",
      "source": [
        "#saving the data numpy arrays\n",
        "np.savetxt(\"X_train2D.csv\", x_train_2d, delimiter=\",\")\n",
        "np.savetxt(\"X_test2D.csv\",x_test_2d,delimiter=\",\")\n",
        "np.savetxt(\"X_val2D.csv\",x_val_2d,delimiter=\",\")\n",
        "\n",
        "np.savetxt(\"y_train.csv\",y_train,delimiter=\",\")\n",
        "np.savetxt(\"y_test.csv\",y_test,delimiter=\",\")\n",
        "np.savetxt(\"y_val.csv\",y_val,delimiter=\",\")"
      ],
      "metadata": {
        "id": "slk81OZGfdGi"
      },
      "execution_count": null,
      "outputs": []
    },
    {
      "cell_type": "code",
      "source": [
        "#downloading the saved data from colab's server\n",
        "'''from google.colab import files\n",
        "\n",
        "files.download(\"X_test2D.csv\")\n",
        "files.download(\"X_train2D.csv\")\n",
        "files.download(\"X_val2D.csv\")\n",
        "files.download(\"y_test.csv\")\n",
        "files.download(\"y_val.csv\")\n",
        "files.download(\"y_train.csv\")\n",
        "'''\n"
      ],
      "metadata": {
        "colab": {
          "base_uri": "https://localhost:8080/",
          "height": 17
        },
        "id": "3U259iEnfc_Q",
        "outputId": "757a0194-d574-4f40-c8ac-789bd7f79649"
      },
      "execution_count": null,
      "outputs": [
        {
          "output_type": "display_data",
          "data": {
            "text/plain": [
              "<IPython.core.display.Javascript object>"
            ],
            "application/javascript": [
              "\n",
              "    async function download(id, filename, size) {\n",
              "      if (!google.colab.kernel.accessAllowed) {\n",
              "        return;\n",
              "      }\n",
              "      const div = document.createElement('div');\n",
              "      const label = document.createElement('label');\n",
              "      label.textContent = `Downloading \"${filename}\": `;\n",
              "      div.appendChild(label);\n",
              "      const progress = document.createElement('progress');\n",
              "      progress.max = size;\n",
              "      div.appendChild(progress);\n",
              "      document.body.appendChild(div);\n",
              "\n",
              "      const buffers = [];\n",
              "      let downloaded = 0;\n",
              "\n",
              "      const channel = await google.colab.kernel.comms.open(id);\n",
              "      // Send a message to notify the kernel that we're ready.\n",
              "      channel.send({})\n",
              "\n",
              "      for await (const message of channel.messages) {\n",
              "        // Send a message to notify the kernel that we're ready.\n",
              "        channel.send({})\n",
              "        if (message.buffers) {\n",
              "          for (const buffer of message.buffers) {\n",
              "            buffers.push(buffer);\n",
              "            downloaded += buffer.byteLength;\n",
              "            progress.value = downloaded;\n",
              "          }\n",
              "        }\n",
              "      }\n",
              "      const blob = new Blob(buffers, {type: 'application/binary'});\n",
              "      const a = document.createElement('a');\n",
              "      a.href = window.URL.createObjectURL(blob);\n",
              "      a.download = filename;\n",
              "      div.appendChild(a);\n",
              "      a.click();\n",
              "      div.remove();\n",
              "    }\n",
              "  "
            ]
          },
          "metadata": {}
        },
        {
          "output_type": "display_data",
          "data": {
            "text/plain": [
              "<IPython.core.display.Javascript object>"
            ],
            "application/javascript": [
              "download(\"download_b6635585-3ecb-4538-9d83-bd615bbf5fb3\", \"X_test2D.csv\", 34960000)"
            ]
          },
          "metadata": {}
        },
        {
          "output_type": "display_data",
          "data": {
            "text/plain": [
              "<IPython.core.display.Javascript object>"
            ],
            "application/javascript": [
              "\n",
              "    async function download(id, filename, size) {\n",
              "      if (!google.colab.kernel.accessAllowed) {\n",
              "        return;\n",
              "      }\n",
              "      const div = document.createElement('div');\n",
              "      const label = document.createElement('label');\n",
              "      label.textContent = `Downloading \"${filename}\": `;\n",
              "      div.appendChild(label);\n",
              "      const progress = document.createElement('progress');\n",
              "      progress.max = size;\n",
              "      div.appendChild(progress);\n",
              "      document.body.appendChild(div);\n",
              "\n",
              "      const buffers = [];\n",
              "      let downloaded = 0;\n",
              "\n",
              "      const channel = await google.colab.kernel.comms.open(id);\n",
              "      // Send a message to notify the kernel that we're ready.\n",
              "      channel.send({})\n",
              "\n",
              "      for await (const message of channel.messages) {\n",
              "        // Send a message to notify the kernel that we're ready.\n",
              "        channel.send({})\n",
              "        if (message.buffers) {\n",
              "          for (const buffer of message.buffers) {\n",
              "            buffers.push(buffer);\n",
              "            downloaded += buffer.byteLength;\n",
              "            progress.value = downloaded;\n",
              "          }\n",
              "        }\n",
              "      }\n",
              "      const blob = new Blob(buffers, {type: 'application/binary'});\n",
              "      const a = document.createElement('a');\n",
              "      a.href = window.URL.createObjectURL(blob);\n",
              "      a.download = filename;\n",
              "      div.appendChild(a);\n",
              "      a.click();\n",
              "      div.remove();\n",
              "    }\n",
              "  "
            ]
          },
          "metadata": {}
        },
        {
          "output_type": "display_data",
          "data": {
            "text/plain": [
              "<IPython.core.display.Javascript object>"
            ],
            "application/javascript": [
              "download(\"download_f0b45165-a654-4419-89f4-b5f7152f7250\", \"X_train2D.csv\", 279400000)"
            ]
          },
          "metadata": {}
        },
        {
          "output_type": "display_data",
          "data": {
            "text/plain": [
              "<IPython.core.display.Javascript object>"
            ],
            "application/javascript": [
              "\n",
              "    async function download(id, filename, size) {\n",
              "      if (!google.colab.kernel.accessAllowed) {\n",
              "        return;\n",
              "      }\n",
              "      const div = document.createElement('div');\n",
              "      const label = document.createElement('label');\n",
              "      label.textContent = `Downloading \"${filename}\": `;\n",
              "      div.appendChild(label);\n",
              "      const progress = document.createElement('progress');\n",
              "      progress.max = size;\n",
              "      div.appendChild(progress);\n",
              "      document.body.appendChild(div);\n",
              "\n",
              "      const buffers = [];\n",
              "      let downloaded = 0;\n",
              "\n",
              "      const channel = await google.colab.kernel.comms.open(id);\n",
              "      // Send a message to notify the kernel that we're ready.\n",
              "      channel.send({})\n",
              "\n",
              "      for await (const message of channel.messages) {\n",
              "        // Send a message to notify the kernel that we're ready.\n",
              "        channel.send({})\n",
              "        if (message.buffers) {\n",
              "          for (const buffer of message.buffers) {\n",
              "            buffers.push(buffer);\n",
              "            downloaded += buffer.byteLength;\n",
              "            progress.value = downloaded;\n",
              "          }\n",
              "        }\n",
              "      }\n",
              "      const blob = new Blob(buffers, {type: 'application/binary'});\n",
              "      const a = document.createElement('a');\n",
              "      a.href = window.URL.createObjectURL(blob);\n",
              "      a.download = filename;\n",
              "      div.appendChild(a);\n",
              "      a.click();\n",
              "      div.remove();\n",
              "    }\n",
              "  "
            ]
          },
          "metadata": {}
        },
        {
          "output_type": "display_data",
          "data": {
            "text/plain": [
              "<IPython.core.display.Javascript object>"
            ],
            "application/javascript": [
              "download(\"download_59d67556-30d5-4c7f-9d3a-6df3ec011a2a\", \"X_val2D.csv\", 34920000)"
            ]
          },
          "metadata": {}
        },
        {
          "output_type": "display_data",
          "data": {
            "text/plain": [
              "<IPython.core.display.Javascript object>"
            ],
            "application/javascript": [
              "\n",
              "    async function download(id, filename, size) {\n",
              "      if (!google.colab.kernel.accessAllowed) {\n",
              "        return;\n",
              "      }\n",
              "      const div = document.createElement('div');\n",
              "      const label = document.createElement('label');\n",
              "      label.textContent = `Downloading \"${filename}\": `;\n",
              "      div.appendChild(label);\n",
              "      const progress = document.createElement('progress');\n",
              "      progress.max = size;\n",
              "      div.appendChild(progress);\n",
              "      document.body.appendChild(div);\n",
              "\n",
              "      const buffers = [];\n",
              "      let downloaded = 0;\n",
              "\n",
              "      const channel = await google.colab.kernel.comms.open(id);\n",
              "      // Send a message to notify the kernel that we're ready.\n",
              "      channel.send({})\n",
              "\n",
              "      for await (const message of channel.messages) {\n",
              "        // Send a message to notify the kernel that we're ready.\n",
              "        channel.send({})\n",
              "        if (message.buffers) {\n",
              "          for (const buffer of message.buffers) {\n",
              "            buffers.push(buffer);\n",
              "            downloaded += buffer.byteLength;\n",
              "            progress.value = downloaded;\n",
              "          }\n",
              "        }\n",
              "      }\n",
              "      const blob = new Blob(buffers, {type: 'application/binary'});\n",
              "      const a = document.createElement('a');\n",
              "      a.href = window.URL.createObjectURL(blob);\n",
              "      a.download = filename;\n",
              "      div.appendChild(a);\n",
              "      a.click();\n",
              "      div.remove();\n",
              "    }\n",
              "  "
            ]
          },
          "metadata": {}
        },
        {
          "output_type": "display_data",
          "data": {
            "text/plain": [
              "<IPython.core.display.Javascript object>"
            ],
            "application/javascript": [
              "download(\"download_1175bc3d-6ce5-4afc-b40d-1bc2f1152d8e\", \"y_test.csv\", 21850)"
            ]
          },
          "metadata": {}
        },
        {
          "output_type": "display_data",
          "data": {
            "text/plain": [
              "<IPython.core.display.Javascript object>"
            ],
            "application/javascript": [
              "\n",
              "    async function download(id, filename, size) {\n",
              "      if (!google.colab.kernel.accessAllowed) {\n",
              "        return;\n",
              "      }\n",
              "      const div = document.createElement('div');\n",
              "      const label = document.createElement('label');\n",
              "      label.textContent = `Downloading \"${filename}\": `;\n",
              "      div.appendChild(label);\n",
              "      const progress = document.createElement('progress');\n",
              "      progress.max = size;\n",
              "      div.appendChild(progress);\n",
              "      document.body.appendChild(div);\n",
              "\n",
              "      const buffers = [];\n",
              "      let downloaded = 0;\n",
              "\n",
              "      const channel = await google.colab.kernel.comms.open(id);\n",
              "      // Send a message to notify the kernel that we're ready.\n",
              "      channel.send({})\n",
              "\n",
              "      for await (const message of channel.messages) {\n",
              "        // Send a message to notify the kernel that we're ready.\n",
              "        channel.send({})\n",
              "        if (message.buffers) {\n",
              "          for (const buffer of message.buffers) {\n",
              "            buffers.push(buffer);\n",
              "            downloaded += buffer.byteLength;\n",
              "            progress.value = downloaded;\n",
              "          }\n",
              "        }\n",
              "      }\n",
              "      const blob = new Blob(buffers, {type: 'application/binary'});\n",
              "      const a = document.createElement('a');\n",
              "      a.href = window.URL.createObjectURL(blob);\n",
              "      a.download = filename;\n",
              "      div.appendChild(a);\n",
              "      a.click();\n",
              "      div.remove();\n",
              "    }\n",
              "  "
            ]
          },
          "metadata": {}
        },
        {
          "output_type": "display_data",
          "data": {
            "text/plain": [
              "<IPython.core.display.Javascript object>"
            ],
            "application/javascript": [
              "download(\"download_e833dda7-30a1-415d-895e-8ec39c93c4a2\", \"y_val.csv\", 21825)"
            ]
          },
          "metadata": {}
        },
        {
          "output_type": "display_data",
          "data": {
            "text/plain": [
              "<IPython.core.display.Javascript object>"
            ],
            "application/javascript": [
              "\n",
              "    async function download(id, filename, size) {\n",
              "      if (!google.colab.kernel.accessAllowed) {\n",
              "        return;\n",
              "      }\n",
              "      const div = document.createElement('div');\n",
              "      const label = document.createElement('label');\n",
              "      label.textContent = `Downloading \"${filename}\": `;\n",
              "      div.appendChild(label);\n",
              "      const progress = document.createElement('progress');\n",
              "      progress.max = size;\n",
              "      div.appendChild(progress);\n",
              "      document.body.appendChild(div);\n",
              "\n",
              "      const buffers = [];\n",
              "      let downloaded = 0;\n",
              "\n",
              "      const channel = await google.colab.kernel.comms.open(id);\n",
              "      // Send a message to notify the kernel that we're ready.\n",
              "      channel.send({})\n",
              "\n",
              "      for await (const message of channel.messages) {\n",
              "        // Send a message to notify the kernel that we're ready.\n",
              "        channel.send({})\n",
              "        if (message.buffers) {\n",
              "          for (const buffer of message.buffers) {\n",
              "            buffers.push(buffer);\n",
              "            downloaded += buffer.byteLength;\n",
              "            progress.value = downloaded;\n",
              "          }\n",
              "        }\n",
              "      }\n",
              "      const blob = new Blob(buffers, {type: 'application/binary'});\n",
              "      const a = document.createElement('a');\n",
              "      a.href = window.URL.createObjectURL(blob);\n",
              "      a.download = filename;\n",
              "      div.appendChild(a);\n",
              "      a.click();\n",
              "      div.remove();\n",
              "    }\n",
              "  "
            ]
          },
          "metadata": {}
        },
        {
          "output_type": "display_data",
          "data": {
            "text/plain": [
              "<IPython.core.display.Javascript object>"
            ],
            "application/javascript": [
              "download(\"download_64bb02cd-2c93-4653-bedb-253e19b2045c\", \"y_train.csv\", 174625)"
            ]
          },
          "metadata": {}
        }
      ]
    },
    {
      "cell_type": "code",
      "source": [
        "import tensorflow as tf"
      ],
      "metadata": {
        "id": "1B522iujkwtM"
      },
      "execution_count": null,
      "outputs": []
    },
    {
      "cell_type": "code",
      "source": [
        "# Create a model object\n",
        "model = tf.keras.Sequential()"
      ],
      "metadata": {
        "id": "bvOBW0bC7Gsp"
      },
      "execution_count": null,
      "outputs": []
    },
    {
      "cell_type": "code",
      "source": [
        "# Add a convolution and max pooling layer\n",
        "model.add(tf.keras.layers.Conv2D(64,\n",
        "                                 kernel_size = (3,3),\n",
        "                                 strides = (1,1),\n",
        "                                 padding = 'same',\n",
        "                                 activation = 'relu',\n",
        "                                 input_shape = (40,40,1)))\n",
        "                                  \n",
        "\n",
        "model.add(tf.keras.layers.MaxPool2D(2,2))\n",
        "\n",
        "# Add more convolution and max pooling layers\n",
        "model.add(tf.keras.layers.Conv2D(64,\n",
        "                                 kernel_size = (3,3),\n",
        "                                 strides = (1,1),\n",
        "                                 padding = 'same',\n",
        "                                 activation = 'relu',\n",
        "                                 ))\n",
        "model.add(tf.keras.layers.MaxPool2D(2,2))\n",
        "model.add(tf.keras.layers.Conv2D(64,\n",
        "                                 kernel_size = (3,3),\n",
        "                                 strides = (1,1),\n",
        "                                 padding = 'same',\n",
        "                                 activation = 'relu',\n",
        "                                 ))\n",
        "\n",
        "model.add(tf.keras.layers.Flatten())\n",
        "\n",
        "# Add the dense layer and dropout layer\n",
        "model.add(tf.keras.layers.Dense(64, activation= 'relu'))\n",
        "model.add(tf.keras.layers.Dropout(0.5))\n",
        "\n",
        "# Add the dense layer and dropout layer\n",
        "model.add(tf.keras.layers.Dense(64, activation= 'relu'))\n",
        "model.add(tf.keras.layers.Dropout(0.5))\n",
        "\n",
        "# Add the output layer\n",
        "model.add(tf.keras.layers.Dense(10,activation='softmax'))\n",
        "\n",
        "# Compile the model\n",
        "model.compile(optimizer='adam',\n",
        "              loss='sparse_categorical_crossentropy',\n",
        "              metrics=['accuracy']\n",
        "              )\n",
        "\n",
        "\n",
        "# Train the model for 50 epochs with batch size of 128\n",
        "results= model.fit(X_train, y_train,\n",
        "                   batch_size=128,\n",
        "                   epochs=50,\n",
        "                   validation_data= (X_val, y_val)\n",
        "                   )\n"
      ],
      "metadata": {
        "id": "cCO99jc17Id9",
        "colab": {
          "base_uri": "https://localhost:8080/"
        },
        "outputId": "3a22fd24-8f7f-4c3e-ab4e-b22e1d6b1534"
      },
      "execution_count": null,
      "outputs": [
        {
          "output_type": "stream",
          "name": "stdout",
          "text": [
            "Epoch 1/50\n",
            "55/55 [==============================] - 10s 21ms/step - loss: 2.1456 - accuracy: 0.1916 - val_loss: 1.8984 - val_accuracy: 0.3631\n",
            "Epoch 2/50\n",
            "55/55 [==============================] - 1s 14ms/step - loss: 1.8470 - accuracy: 0.3223 - val_loss: 1.5042 - val_accuracy: 0.5040\n",
            "Epoch 3/50\n",
            "55/55 [==============================] - 1s 13ms/step - loss: 1.6522 - accuracy: 0.4172 - val_loss: 1.3374 - val_accuracy: 0.5326\n",
            "Epoch 4/50\n",
            "55/55 [==============================] - 1s 13ms/step - loss: 1.5131 - accuracy: 0.4693 - val_loss: 1.1232 - val_accuracy: 0.6460\n",
            "Epoch 5/50\n",
            "55/55 [==============================] - 1s 13ms/step - loss: 1.3667 - accuracy: 0.5145 - val_loss: 1.0326 - val_accuracy: 0.6816\n",
            "Epoch 6/50\n",
            "55/55 [==============================] - 1s 13ms/step - loss: 1.2938 - accuracy: 0.5515 - val_loss: 0.9841 - val_accuracy: 0.6793\n",
            "Epoch 7/50\n",
            "55/55 [==============================] - 1s 13ms/step - loss: 1.1833 - accuracy: 0.5887 - val_loss: 0.8530 - val_accuracy: 0.7480\n",
            "Epoch 8/50\n",
            "55/55 [==============================] - 1s 13ms/step - loss: 1.1020 - accuracy: 0.6210 - val_loss: 0.7857 - val_accuracy: 0.7560\n",
            "Epoch 9/50\n",
            "55/55 [==============================] - 1s 13ms/step - loss: 1.0437 - accuracy: 0.6419 - val_loss: 0.7620 - val_accuracy: 0.7766\n",
            "Epoch 10/50\n",
            "55/55 [==============================] - 1s 13ms/step - loss: 0.9802 - accuracy: 0.6643 - val_loss: 0.6801 - val_accuracy: 0.8133\n",
            "Epoch 11/50\n",
            "55/55 [==============================] - 1s 13ms/step - loss: 0.9226 - accuracy: 0.6878 - val_loss: 0.6641 - val_accuracy: 0.8076\n",
            "Epoch 12/50\n",
            "55/55 [==============================] - 1s 13ms/step - loss: 0.8607 - accuracy: 0.7077 - val_loss: 0.6515 - val_accuracy: 0.8007\n",
            "Epoch 13/50\n",
            "55/55 [==============================] - 1s 13ms/step - loss: 0.8415 - accuracy: 0.7142 - val_loss: 0.6498 - val_accuracy: 0.7984\n",
            "Epoch 14/50\n",
            "55/55 [==============================] - 1s 13ms/step - loss: 0.8015 - accuracy: 0.7300 - val_loss: 0.5935 - val_accuracy: 0.8339\n",
            "Epoch 15/50\n",
            "55/55 [==============================] - 1s 14ms/step - loss: 0.7568 - accuracy: 0.7416 - val_loss: 0.5967 - val_accuracy: 0.8339\n",
            "Epoch 16/50\n",
            "55/55 [==============================] - 1s 13ms/step - loss: 0.7320 - accuracy: 0.7591 - val_loss: 0.5926 - val_accuracy: 0.8316\n",
            "Epoch 17/50\n",
            "55/55 [==============================] - 1s 13ms/step - loss: 0.7024 - accuracy: 0.7656 - val_loss: 0.5438 - val_accuracy: 0.8396\n",
            "Epoch 18/50\n",
            "55/55 [==============================] - 1s 13ms/step - loss: 0.6826 - accuracy: 0.7729 - val_loss: 0.5465 - val_accuracy: 0.8408\n",
            "Epoch 19/50\n",
            "55/55 [==============================] - 1s 13ms/step - loss: 0.6319 - accuracy: 0.7817 - val_loss: 0.5139 - val_accuracy: 0.8511\n",
            "Epoch 20/50\n",
            "55/55 [==============================] - 1s 13ms/step - loss: 0.6186 - accuracy: 0.7890 - val_loss: 0.5341 - val_accuracy: 0.8488\n",
            "Epoch 21/50\n",
            "55/55 [==============================] - 1s 13ms/step - loss: 0.5828 - accuracy: 0.8033 - val_loss: 0.5439 - val_accuracy: 0.8477\n",
            "Epoch 22/50\n",
            "55/55 [==============================] - 1s 13ms/step - loss: 0.5761 - accuracy: 0.8039 - val_loss: 0.5603 - val_accuracy: 0.8454\n",
            "Epoch 23/50\n",
            "55/55 [==============================] - 1s 13ms/step - loss: 0.5379 - accuracy: 0.8170 - val_loss: 0.4973 - val_accuracy: 0.8614\n",
            "Epoch 24/50\n",
            "55/55 [==============================] - 1s 13ms/step - loss: 0.5261 - accuracy: 0.8152 - val_loss: 0.5050 - val_accuracy: 0.8545\n",
            "Epoch 25/50\n",
            "55/55 [==============================] - 1s 13ms/step - loss: 0.5150 - accuracy: 0.8230 - val_loss: 0.4982 - val_accuracy: 0.8751\n",
            "Epoch 26/50\n",
            "55/55 [==============================] - 1s 13ms/step - loss: 0.5143 - accuracy: 0.8222 - val_loss: 0.5009 - val_accuracy: 0.8660\n",
            "Epoch 27/50\n",
            "55/55 [==============================] - 1s 13ms/step - loss: 0.4596 - accuracy: 0.8448 - val_loss: 0.4595 - val_accuracy: 0.8786\n",
            "Epoch 28/50\n",
            "55/55 [==============================] - 1s 13ms/step - loss: 0.4564 - accuracy: 0.8478 - val_loss: 0.4679 - val_accuracy: 0.8877\n",
            "Epoch 29/50\n",
            "55/55 [==============================] - 1s 13ms/step - loss: 0.4231 - accuracy: 0.8504 - val_loss: 0.4902 - val_accuracy: 0.8671\n",
            "Epoch 30/50\n",
            "55/55 [==============================] - 1s 13ms/step - loss: 0.4230 - accuracy: 0.8573 - val_loss: 0.4739 - val_accuracy: 0.8809\n",
            "Epoch 31/50\n",
            "55/55 [==============================] - 1s 13ms/step - loss: 0.4155 - accuracy: 0.8545 - val_loss: 0.5181 - val_accuracy: 0.8786\n",
            "Epoch 32/50\n",
            "55/55 [==============================] - 1s 13ms/step - loss: 0.4114 - accuracy: 0.8581 - val_loss: 0.5329 - val_accuracy: 0.8660\n",
            "Epoch 33/50\n",
            "55/55 [==============================] - 1s 13ms/step - loss: 0.4078 - accuracy: 0.8624 - val_loss: 0.5112 - val_accuracy: 0.8706\n",
            "Epoch 34/50\n",
            "55/55 [==============================] - 1s 14ms/step - loss: 0.3888 - accuracy: 0.8654 - val_loss: 0.4885 - val_accuracy: 0.8809\n",
            "Epoch 35/50\n",
            "55/55 [==============================] - 1s 13ms/step - loss: 0.3842 - accuracy: 0.8704 - val_loss: 0.5061 - val_accuracy: 0.8774\n",
            "Epoch 36/50\n",
            "55/55 [==============================] - 1s 13ms/step - loss: 0.3609 - accuracy: 0.8829 - val_loss: 0.4998 - val_accuracy: 0.8763\n",
            "Epoch 37/50\n",
            "55/55 [==============================] - 1s 13ms/step - loss: 0.3595 - accuracy: 0.8744 - val_loss: 0.5133 - val_accuracy: 0.8843\n",
            "Epoch 38/50\n",
            "55/55 [==============================] - 1s 13ms/step - loss: 0.3408 - accuracy: 0.8792 - val_loss: 0.4885 - val_accuracy: 0.8923\n",
            "Epoch 39/50\n",
            "55/55 [==============================] - 1s 13ms/step - loss: 0.3518 - accuracy: 0.8799 - val_loss: 0.4912 - val_accuracy: 0.8900\n",
            "Epoch 40/50\n",
            "55/55 [==============================] - 1s 13ms/step - loss: 0.3625 - accuracy: 0.8756 - val_loss: 0.5532 - val_accuracy: 0.8706\n",
            "Epoch 41/50\n",
            "55/55 [==============================] - 1s 13ms/step - loss: 0.3637 - accuracy: 0.8767 - val_loss: 0.5026 - val_accuracy: 0.8855\n",
            "Epoch 42/50\n",
            "55/55 [==============================] - 1s 13ms/step - loss: 0.3269 - accuracy: 0.8838 - val_loss: 0.5084 - val_accuracy: 0.8843\n",
            "Epoch 43/50\n",
            "55/55 [==============================] - 1s 13ms/step - loss: 0.3123 - accuracy: 0.8909 - val_loss: 0.5095 - val_accuracy: 0.8889\n",
            "Epoch 44/50\n",
            "55/55 [==============================] - 1s 13ms/step - loss: 0.3131 - accuracy: 0.8902 - val_loss: 0.5347 - val_accuracy: 0.8900\n",
            "Epoch 45/50\n",
            "55/55 [==============================] - 1s 13ms/step - loss: 0.3182 - accuracy: 0.8885 - val_loss: 0.5950 - val_accuracy: 0.8843\n",
            "Epoch 46/50\n",
            "55/55 [==============================] - 1s 13ms/step - loss: 0.3044 - accuracy: 0.8929 - val_loss: 0.5729 - val_accuracy: 0.8797\n",
            "Epoch 47/50\n",
            "55/55 [==============================] - 1s 13ms/step - loss: 0.3052 - accuracy: 0.8933 - val_loss: 0.5771 - val_accuracy: 0.8820\n",
            "Epoch 48/50\n",
            "55/55 [==============================] - 1s 13ms/step - loss: 0.3095 - accuracy: 0.8921 - val_loss: 0.5654 - val_accuracy: 0.8900\n",
            "Epoch 49/50\n",
            "55/55 [==============================] - 1s 14ms/step - loss: 0.2921 - accuracy: 0.8974 - val_loss: 0.5917 - val_accuracy: 0.8809\n",
            "Epoch 50/50\n",
            "55/55 [==============================] - 1s 13ms/step - loss: 0.2816 - accuracy: 0.9038 - val_loss: 0.6339 - val_accuracy: 0.8774\n"
          ]
        }
      ]
    },
    {
      "cell_type": "code",
      "source": [
        "plt.plot(results.history[\"loss\"], label = \"loss\")\n",
        "plt.plot(results.history[\"val_loss\"], label = \"val_loss\")\n",
        "plt.xlabel(\"Epoch\")\n",
        "plt.ylabel(\"Loss\")\n",
        "plt.grid()\n",
        "plt.legend()\n",
        "plt.show()\n",
        "\n",
        "print('------------------------')\n",
        "plt.plot(results.history[\"accuracy\"], label = \"accuracy\")\n",
        "plt.plot(results.history[\"val_accuracy\"], label = \"val_accuracy\")\n",
        "plt.xlabel(\"Epoch\")\n",
        "plt.ylabel(\"Accuracy\")\n",
        "plt.grid()\n",
        "plt.legend()\n",
        "plt.show()"
      ],
      "metadata": {
        "id": "X60Ay7ET5PUu",
        "colab": {
          "base_uri": "https://localhost:8080/",
          "height": 558
        },
        "outputId": "03ec9e16-fd93-47cf-db9c-4c6251f21d7d"
      },
      "execution_count": null,
      "outputs": [
        {
          "output_type": "display_data",
          "data": {
            "text/plain": [
              "<Figure size 432x288 with 1 Axes>"
            ],
            "image/png": "[encoded data removed]"
          },
          "metadata": {
            "needs_background": "light"
          }
        },
        {
          "output_type": "stream",
          "name": "stdout",
          "text": [
            "------------------------\n"
          ]
        },
        {
          "output_type": "display_data",
          "data": {
            "text/plain": [
              "<Figure size 432x288 with 1 Axes>"
            ],
            "image/png": "[encoded data removed]"
          },
          "metadata": {
            "needs_background": "light"
          }
        }
      ]
    },
    {
      "cell_type": "code",
      "source": [
        "model.evaluate(X_test,y_test)"
      ],
      "metadata": {
        "id": "XSJBNAJD7An8",
        "colab": {
          "base_uri": "https://localhost:8080/"
        },
        "outputId": "5af93a6f-337d-470d-8209-f413fc08c871"
      },
      "execution_count": null,
      "outputs": [
        {
          "output_type": "stream",
          "name": "stdout",
          "text": [
            "28/28 [==============================] - 0s 6ms/step - loss: 0.4104 - accuracy: 0.8959\n"
          ]
        },
        {
          "output_type": "execute_result",
          "data": {
            "text/plain": [
              "[0.41042497754096985, 0.8958809971809387]"
            ]
          },
          "metadata": {},
          "execution_count": 19
        }
      ]
    }
  ],
  "metadata": {
    "colab": {
      "collapsed_sections": [],
      "provenance": [],
      "include_colab_link": true
    },
    "kernelspec": {
      "display_name": "Python 3",
      "name": "python3"
    },
    "language_info": {
      "name": "python"
    },
    "accelerator": "GPU"
  },
  "nbformat": 4,
  "nbformat_minor": 0
}