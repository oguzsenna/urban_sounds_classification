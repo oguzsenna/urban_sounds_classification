{
  "cells": [
    {
      "cell_type": "markdown",
      "metadata": {
        "id": "view-in-github",
        "colab_type": "text"
      },
      "source": [
        "<a href=\"https://colab.research.google.com/github/oguzsenna/urban_sounds_classification_data_lists/blob/main/urban_sounds_classification_onisleme.ipynb\" target=\"_parent\"><img src=\"https://colab.research.google.com/assets/colab-badge.svg\" alt=\"Open In Colab\"/></a>"
      ]
    },
    {
      "cell_type": "markdown",
      "metadata": {
        "id": "xM5mbzWocybD"
      },
      "source": [
        "import data from github repo"
      ]
    },
    {
      "cell_type": "code",
      "source": [
        "import pandas as pd\n",
        "import librosa\n",
        "import librosa.display\n",
        "import numpy as np\n",
        "import tensorflow as tf\n",
        "import matplotlib.pyplot as plt\n",
        "import cv2 \n",
        "import glob\n",
        "from google.colab.patches import cv2_imshow\n",
        "from sklearn.model_selection import train_test_split\n",
        "import pickle"
      ],
      "metadata": {
        "id": "vTqVKgzw7L9I"
      },
      "execution_count": 39,
      "outputs": []
    },
    {
      "cell_type": "code",
      "execution_count": null,
      "metadata": {
        "colab": {
          "base_uri": "https://localhost:8080/",
          "height": 35
        },
        "id": "Si1D7RfCbodW",
        "outputId": "fd3ccfd0-e8d9-4f5f-baa7-8084ed86e065"
      },
      "outputs": [
        {
          "output_type": "execute_result",
          "data": {
            "text/plain": [
              "'/content'"
            ],
            "application/vnd.google.colaboratory.intrinsic+json": {
              "type": "string"
            }
          },
          "metadata": {},
          "execution_count": 2
        }
      ],
      "source": [
        "pwd"
      ]
    },
    {
      "cell_type": "code",
      "execution_count": null,
      "metadata": {
        "colab": {
          "base_uri": "https://localhost:8080/"
        },
        "id": "wFHB81asdDBT",
        "outputId": "840ce028-95e2-4061-c4b5-2a5adcc6faee"
      },
      "outputs": [
        {
          "output_type": "stream",
          "name": "stdout",
          "text": [
            "fatal: destination path 'repo' already exists and is not an empty directory.\n"
          ]
        }
      ],
      "source": [
        "! git clone https://github.com/Hijikata1835/repo/"
      ]
    },
    {
      "cell_type": "code",
      "execution_count": null,
      "metadata": {
        "colab": {
          "base_uri": "https://localhost:8080/"
        },
        "id": "jnEls3zmdLJz",
        "outputId": "b584ca2b-e5db-4948-bffe-cc1c4588dd42"
      },
      "outputs": [
        {
          "output_type": "stream",
          "name": "stdout",
          "text": [
            "/content/repo/spectrograms\n"
          ]
        }
      ],
      "source": [
        "cd repo/spectrograms"
      ]
    },
    {
      "cell_type": "code",
      "execution_count": null,
      "metadata": {
        "colab": {
          "base_uri": "https://localhost:8080/"
        },
        "id": "lhWSoFjXdFPR",
        "outputId": "b69795c5-ade4-4a6c-a855-2cf81c5d4824"
      },
      "outputs": [
        {
          "output_type": "stream",
          "name": "stdout",
          "text": [
            "\u001b[0m\u001b[01;34m0\u001b[0m/  \u001b[01;34m2\u001b[0m/  \u001b[01;34m4\u001b[0m/  \u001b[01;34m6\u001b[0m/  \u001b[01;34m8\u001b[0m/  UrbanSound8K.csv         urban_sounds_classification.pdf\n",
            "\u001b[01;34m1\u001b[0m/  \u001b[01;34m3\u001b[0m/  \u001b[01;34m5\u001b[0m/  \u001b[01;34m7\u001b[0m/  \u001b[01;34m9\u001b[0m/  UrbanSound8K_README.txt\n"
          ]
        }
      ],
      "source": [
        "ls"
      ]
    },
    {
      "cell_type": "code",
      "source": [
        "metadata = pd.read_csv('/content/repo/spectrograms/UrbanSound8K.csv')\n",
        "metadata.drop(columns = ['fsID','start', 'end','salience','fold'], inplace=True)\n",
        "metadata.head()\n",
        "metadata.info()"
      ],
      "metadata": {
        "colab": {
          "base_uri": "https://localhost:8080/"
        },
        "id": "wJyzNY4V59hI",
        "outputId": "4b711400-5ba8-4479-abe2-4b6db25fb378"
      },
      "execution_count": null,
      "outputs": [
        {
          "output_type": "stream",
          "name": "stdout",
          "text": [
            "<class 'pandas.core.frame.DataFrame'>\n",
            "RangeIndex: 8732 entries, 0 to 8731\n",
            "Data columns (total 3 columns):\n",
            " #   Column           Non-Null Count  Dtype \n",
            "---  ------           --------------  ----- \n",
            " 0   slice_file_name  8732 non-null   object\n",
            " 1   classID          8732 non-null   int64 \n",
            " 2   class            8732 non-null   object\n",
            "dtypes: int64(1), object(2)\n",
            "memory usage: 204.8+ KB\n"
          ]
        }
      ]
    },
    {
      "cell_type": "code",
      "source": [
        "print(metadata.classID.value_counts())"
      ],
      "metadata": {
        "id": "KT2QyoDS7B38",
        "colab": {
          "base_uri": "https://localhost:8080/"
        },
        "outputId": "a54b697d-23d5-4afc-fc57-e9eeb24e1664"
      },
      "execution_count": null,
      "outputs": [
        {
          "output_type": "stream",
          "name": "stdout",
          "text": [
            "3    1000\n",
            "2    1000\n",
            "0    1000\n",
            "9    1000\n",
            "5    1000\n",
            "7    1000\n",
            "4    1000\n",
            "8     929\n",
            "1     429\n",
            "6     374\n",
            "Name: classID, dtype: int64\n"
          ]
        }
      ]
    },
    {
      "cell_type": "code",
      "source": [
        "def one_function_to_rule_them_all(n): # fonksiyona directoryleri koyacagiz grayscale, resize, normalize edip bize cikti verecek\n",
        "\n",
        "  #imageFile = cv2.imread(n)\n",
        "  gray = cv2.cvtColor(n, cv2.COLOR_BGR2GRAY) \n",
        "\n",
        "  # grayscale\n",
        "  #image = cv2.imread('/content/repo/spectrograms/0/100852-0-0-0.png')\n",
        "  #ray = cv2.cvtColor(image, cv2.COLOR_BGR2GRAY)\n",
        "\n",
        "  #print(gray.shape)\n",
        "  #print('Gray Dimensions : ',gray.shape)\n",
        "  #cv2_imshow(gray)\n",
        "\n",
        "  #resizing \n",
        "  scale_percent = 50 # percent of original size\n",
        "  width = int(gray.shape[1] * scale_percent / 100)\n",
        "  height = int(gray.shape[0] * scale_percent / 100)\n",
        "  dim = (width, height)\n",
        "    \n",
        "  resized = cv2.resize(gray, dim, interpolation = cv2.INTER_AREA)\n",
        "  \n",
        "  #print('Resized Dimensions : ',resized.shape)\n",
        "  \n",
        "  #cv2_imshow(resized)\n",
        "\n",
        "  #normalize\n",
        "\n",
        "  #setting the array for resulting image after normalization\n",
        "  #resultimage = np.zeros((800, 800))\n",
        "  #normalizing the given image using normalize() function\n",
        "  #normalizedimage = cv2.normalize(resized,resultimage, 0, 100, cv2.NORM_MINMAX)\n",
        "\n",
        "  #print('Normalized resized gray image', normalizedimage.shape)\n",
        "  #cv2_imshow(normalizedimage)\n",
        "\n",
        "  return resized"
      ],
      "metadata": {
        "id": "6zRqgxsEerPF"
      },
      "execution_count": null,
      "outputs": []
    },
    {
      "cell_type": "code",
      "source": [
        "\n",
        "cv_img = []\n",
        "for i in range(10): \n",
        "  for img in glob.glob(\"/content/repo/spectrograms/\"+str(i)+\"/*.png\"):\n",
        "      n= cv2.imread(img)\n",
        "      m=one_function_to_rule_them_all(n)\n",
        "      m= m/255\n",
        "      cv_img.append([m,i])"
      ],
      "metadata": {
        "id": "dkm9LWyIED0n"
      },
      "execution_count": null,
      "outputs": []
    },
    {
      "cell_type": "code",
      "source": [
        "df=pd.DataFrame(cv_img, columns= ['img', 'category'])\n",
        "df[:1]"
      ],
      "metadata": {
        "colab": {
          "base_uri": "https://localhost:8080/",
          "height": 81
        },
        "id": "tBggCO9oE229",
        "outputId": "8a5ac4ab-e06e-44ad-cbda-03e08775f67f"
      },
      "execution_count": null,
      "outputs": [
        {
          "output_type": "execute_result",
          "data": {
            "text/plain": [
              "                                                 img  category\n",
              "0  [[1.0, 1.0, 0.4588235294117647, 0.0, 0.0, 0.0,...         0"
            ],
            "text/html": [
              "\n",
              "  <div id=\"df-21541c66-6d55-44bf-9e7b-5b631f6cf2d0\">\n",
              "    <div class=\"colab-df-container\">\n",
              "      <div>\n",
              "<style scoped>\n",
              "    .dataframe tbody tr th:only-of-type {\n",
              "        vertical-align: middle;\n",
              "    }\n",
              "\n",
              "    .dataframe tbody tr th {\n",
              "        vertical-align: top;\n",
              "    }\n",
              "\n",
              "    .dataframe thead th {\n",
              "        text-align: right;\n",
              "    }\n",
              "</style>\n",
              "<table border=\"1\" class=\"dataframe\">\n",
              "  <thead>\n",
              "    <tr style=\"text-align: right;\">\n",
              "      <th></th>\n",
              "      <th>img</th>\n",
              "      <th>category</th>\n",
              "    </tr>\n",
              "  </thead>\n",
              "  <tbody>\n",
              "    <tr>\n",
              "      <th>0</th>\n",
              "      <td>[[1.0, 1.0, 0.4588235294117647, 0.0, 0.0, 0.0,...</td>\n",
              "      <td>0</td>\n",
              "    </tr>\n",
              "  </tbody>\n",
              "</table>\n",
              "</div>\n",
              "      <button class=\"colab-df-convert\" onclick=\"convertToInteractive('df-21541c66-6d55-44bf-9e7b-5b631f6cf2d0')\"\n",
              "              title=\"Convert this dataframe to an interactive table.\"\n",
              "              style=\"display:none;\">\n",
              "        \n",
              "  <svg xmlns=\"http://www.w3.org/2000/svg\" height=\"24px\"viewBox=\"0 0 24 24\"\n",
              "       width=\"24px\">\n",
              "    <path d=\"M0 0h24v24H0V0z\" fill=\"none\"/>\n",
              "    <path d=\"M18.56 5.44l.94 2.06.94-2.06 2.06-.94-2.06-.94-.94-2.06-.94 2.06-2.06.94zm-11 1L8.5 8.5l.94-2.06 2.06-.94-2.06-.94L8.5 2.5l-.94 2.06-2.06.94zm10 10l.94 2.06.94-2.06 2.06-.94-2.06-.94-.94-2.06-.94 2.06-2.06.94z\"/><path d=\"M17.41 7.96l-1.37-1.37c-.4-.4-.92-.59-1.43-.59-.52 0-1.04.2-1.43.59L10.3 9.45l-7.72 7.72c-.78.78-.78 2.05 0 2.83L4 21.41c.39.39.9.59 1.41.59.51 0 1.02-.2 1.41-.59l7.78-7.78 2.81-2.81c.8-.78.8-2.07 0-2.86zM5.41 20L4 18.59l7.72-7.72 1.47 1.35L5.41 20z\"/>\n",
              "  </svg>\n",
              "      </button>\n",
              "      \n",
              "  <style>\n",
              "    .colab-df-container {\n",
              "      display:flex;\n",
              "      flex-wrap:wrap;\n",
              "      gap: 12px;\n",
              "    }\n",
              "\n",
              "    .colab-df-convert {\n",
              "      background-color: #E8F0FE;\n",
              "      border: none;\n",
              "      border-radius: 50%;\n",
              "      cursor: pointer;\n",
              "      display: none;\n",
              "      fill: #1967D2;\n",
              "      height: 32px;\n",
              "      padding: 0 0 0 0;\n",
              "      width: 32px;\n",
              "    }\n",
              "\n",
              "    .colab-df-convert:hover {\n",
              "      background-color: #E2EBFA;\n",
              "      box-shadow: 0px 1px 2px rgba(60, 64, 67, 0.3), 0px 1px 3px 1px rgba(60, 64, 67, 0.15);\n",
              "      fill: #174EA6;\n",
              "    }\n",
              "\n",
              "    [theme=dark] .colab-df-convert {\n",
              "      background-color: #3B4455;\n",
              "      fill: #D2E3FC;\n",
              "    }\n",
              "\n",
              "    [theme=dark] .colab-df-convert:hover {\n",
              "      background-color: #434B5C;\n",
              "      box-shadow: 0px 1px 3px 1px rgba(0, 0, 0, 0.15);\n",
              "      filter: drop-shadow(0px 1px 2px rgba(0, 0, 0, 0.3));\n",
              "      fill: #FFFFFF;\n",
              "    }\n",
              "  </style>\n",
              "\n",
              "      <script>\n",
              "        const buttonEl =\n",
              "          document.querySelector('#df-21541c66-6d55-44bf-9e7b-5b631f6cf2d0 button.colab-df-convert');\n",
              "        buttonEl.style.display =\n",
              "          google.colab.kernel.accessAllowed ? 'block' : 'none';\n",
              "\n",
              "        async function convertToInteractive(key) {\n",
              "          const element = document.querySelector('#df-21541c66-6d55-44bf-9e7b-5b631f6cf2d0');\n",
              "          const dataTable =\n",
              "            await google.colab.kernel.invokeFunction('convertToInteractive',\n",
              "                                                     [key], {});\n",
              "          if (!dataTable) return;\n",
              "\n",
              "          const docLinkHtml = 'Like what you see? Visit the ' +\n",
              "            '<a target=\"_blank\" href=https://colab.research.google.com/notebooks/data_table.ipynb>data table notebook</a>'\n",
              "            + ' to learn more about interactive tables.';\n",
              "          element.innerHTML = '';\n",
              "          dataTable['output_type'] = 'display_data';\n",
              "          await google.colab.output.renderOutput(dataTable, element);\n",
              "          const docLink = document.createElement('div');\n",
              "          docLink.innerHTML = docLinkHtml;\n",
              "          element.appendChild(docLink);\n",
              "        }\n",
              "      </script>\n",
              "    </div>\n",
              "  </div>\n",
              "  "
            ]
          },
          "metadata": {},
          "execution_count": 28
        }
      ]
    },
    {
      "cell_type": "code",
      "source": [
        "X= df['img']\n",
        "\n",
        "y= df['category']\n"
      ],
      "metadata": {
        "id": "W8V1w_otMg6L"
      },
      "execution_count": null,
      "outputs": []
    },
    {
      "cell_type": "code",
      "source": [
        "X_train, X_temporary, y_train, y_temporary = train_test_split(X,y,train_size=0.8)\n",
        "\n",
        "X_val,X_test, y_val, y_test = train_test_split(X_temporary, y_temporary, train_size=0.5)"
      ],
      "metadata": {
        "id": "42BQdKWz1Otv"
      },
      "execution_count": null,
      "outputs": []
    },
    {
      "cell_type": "code",
      "source": [
        "print(f'Length of the dataset: {len(X)}')\n",
        "print(f'Length of the training dataset:  {len(X_train)}')\n",
        "print(f'Length of the validation dataset: {len(X_val)}')\n",
        "print(f'Length of the test dataset: {len(X_test)}')"
      ],
      "metadata": {
        "colab": {
          "base_uri": "https://localhost:8080/"
        },
        "id": "YePatJ-v1Vil",
        "outputId": "de353d36-f727-499f-bd35-057ba1fbafb4"
      },
      "execution_count": null,
      "outputs": [
        {
          "output_type": "stream",
          "name": "stdout",
          "text": [
            "Length of the dataset: 8732\n",
            "Length of the training dataset:  6985\n",
            "Length of the validation dataset: 873\n",
            "Length of the test dataset: 874\n"
          ]
        }
      ]
    },
    {
      "cell_type": "code",
      "source": [
        "with open('X_train.pickle', 'wb') as f:\n",
        "    pickle.dump(X_train, f)"
      ],
      "metadata": {
        "id": "cXntdciX1jVK"
      },
      "execution_count": null,
      "outputs": []
    },
    {
      "cell_type": "code",
      "source": [
        "with open('X_test.pickle', 'wb') as f:\n",
        "    pickle.dump(X_test, f)"
      ],
      "metadata": {
        "id": "xlc9bGs_AqdF"
      },
      "execution_count": null,
      "outputs": []
    },
    {
      "cell_type": "code",
      "source": [
        "with open('X_val.pickle', 'wb') as f:\n",
        "    pickle.dump(X_val, f)"
      ],
      "metadata": {
        "id": "uW0pEYj_Aq4V"
      },
      "execution_count": null,
      "outputs": []
    },
    {
      "cell_type": "code",
      "source": [
        "with open('y_train.pickle', 'wb') as f:\n",
        "    pickle.dump(y_train, f)"
      ],
      "metadata": {
        "id": "cpJM2dgrArFO"
      },
      "execution_count": null,
      "outputs": []
    },
    {
      "cell_type": "code",
      "source": [
        "with open('y_test.pickle', 'wb') as f:\n",
        "    pickle.dump(y_test, f)"
      ],
      "metadata": {
        "id": "69qbz0C2ArQz"
      },
      "execution_count": null,
      "outputs": []
    },
    {
      "cell_type": "code",
      "source": [
        "with open('y_val.pickle', 'wb') as f:\n",
        "    pickle.dump(y_val, f)"
      ],
      "metadata": {
        "id": "WZj7xQ1IArcm"
      },
      "execution_count": null,
      "outputs": []
    }
  ],
  "metadata": {
    "colab": {
      "collapsed_sections": [],
      "provenance": [],
      "include_colab_link": true
    },
    "kernelspec": {
      "display_name": "Python 3",
      "name": "python3"
    },
    "language_info": {
      "name": "python"
    },
    "accelerator": "GPU"
  },
  "nbformat": 4,
  "nbformat_minor": 0
}